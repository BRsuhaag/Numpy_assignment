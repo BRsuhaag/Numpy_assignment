{
  "nbformat": 4,
  "nbformat_minor": 0,
  "metadata": {
    "colab": {
      "provenance": []
    },
    "kernelspec": {
      "name": "python3",
      "display_name": "Python 3"
    },
    "language_info": {
      "name": "python"
    }
  },
  "cells": [
    {
      "cell_type": "code",
      "execution_count": 1,
      "metadata": {
        "colab": {
          "base_uri": "https://localhost:8080/",
          "height": 105
        },
        "id": "zIYqBGOA53DM",
        "outputId": "444ae26a-8223-4938-9111-a26576714b03"
      },
      "outputs": [
        {
          "output_type": "execute_result",
          "data": {
            "text/plain": [
              "\"\\npurpose of numpy is for faster calculation better computation of homogeneus data type.\\nadvantages are when large number of data needs to be processed we use numpy array\\n*matrics, *ndimentions are calculated faster saving time and its memory capacity\\nIt enhances python's capabilites for numerical operations because of its built is based on c programming which makes its compution faster.\\n\""
            ],
            "application/vnd.google.colaboratory.intrinsic+json": {
              "type": "string"
            }
          },
          "metadata": {},
          "execution_count": 1
        }
      ],
      "source": [
        "# 1. Explain the purpose and advantages of NumPy in scientific computing and data analysis. How does it enhance Python's capabilities for numerical operations?\n",
        "'''\n",
        "purpose of numpy is for faster calculation better computation of homogeneus data type.\n",
        "advantages are when large number of data needs to be processed we use numpy array\n",
        "*matrics, *ndimentions are calculated faster saving time and its memory capacity\n",
        "It enhances python's capabilites for numerical operations because of its built is based on c programming which makes its compution faster.\n",
        "'''"
      ]
    },
    {
      "cell_type": "code",
      "source": [
        "# Compare and contrast np.mean() and np.average() functions in NumPy. When would you use one over the other?\n",
        "'''\n",
        "np.mean() is used to calculate simple arimthmatic operations like adding all the values and divide whith n numbers\n",
        "np.average() helps in calculating numbers or elements with weights or missing value\n",
        "'''"
      ],
      "metadata": {
        "id": "vZD_jBx1FLPE",
        "colab": {
          "base_uri": "https://localhost:8080/",
          "height": 70
        },
        "outputId": "4b62bc99-e2c4-4a8d-c0dd-5a3f8b72c3c0"
      },
      "execution_count": 2,
      "outputs": [
        {
          "output_type": "execute_result",
          "data": {
            "text/plain": [
              "'\\nnp.mean() is used to calculate simple arimthmatic operations like adding all the values and divide whith n numbers\\nnp.average() helps in calculating numbers or elements with weights or missing value\\n'"
            ],
            "application/vnd.google.colaboratory.intrinsic+json": {
              "type": "string"
            }
          },
          "metadata": {},
          "execution_count": 2
        }
      ]
    },
    {
      "cell_type": "code",
      "source": [
        "# 3. Describe the methods for reversing a NumPy array along different axes. Provide examples for 1D and 2D arrays.\n",
        "'''\n",
        "Reversing the array in numpy is by using flip() and axis is given to control row and column\n",
        "'''\n",
        "import numpy as np\n",
        "arr = np.array([1, 2, 3, 4])\n",
        "print(np.flip(arr), \"\\n\")\n",
        "arr1 = ([2, 3, 4],[1, 5, 6])\n",
        "print(np.flip(arr1, axis = 0), \"\\n\")\n",
        "np.flip(arr1, axis = 1)\n",
        "\n"
      ],
      "metadata": {
        "id": "7eKifMHlKVNh",
        "colab": {
          "base_uri": "https://localhost:8080/"
        },
        "outputId": "77edde56-6dec-4267-ded5-1b83887ca9e7"
      },
      "execution_count": 3,
      "outputs": [
        {
          "output_type": "stream",
          "name": "stdout",
          "text": [
            "[4 3 2 1] \n",
            "\n",
            "[[1 5 6]\n",
            " [2 3 4]] \n",
            "\n"
          ]
        },
        {
          "output_type": "execute_result",
          "data": {
            "text/plain": [
              "array([[4, 3, 2],\n",
              "       [6, 5, 1]])"
            ]
          },
          "metadata": {},
          "execution_count": 3
        }
      ]
    },
    {
      "cell_type": "code",
      "source": [
        "# 4. How can you determine the data type of elements in a NumPy array? Discuss the importance of data types in memory management and performance.\n",
        "'''\n",
        "type is determined by passing the arguments in side type() function\n",
        "data type is necessary for memory optimization and faster efficiency\n",
        "'''\n",
        "ty = np.flip(arr)\n",
        "ty.dtype"
      ],
      "metadata": {
        "colab": {
          "base_uri": "https://localhost:8080/"
        },
        "id": "_IQlxnyhNAvd",
        "outputId": "ebe57688-e1de-42c9-b83d-dc7c6a2a30fc"
      },
      "execution_count": 4,
      "outputs": [
        {
          "output_type": "execute_result",
          "data": {
            "text/plain": [
              "dtype('int64')"
            ]
          },
          "metadata": {},
          "execution_count": 4
        }
      ]
    },
    {
      "cell_type": "code",
      "source": [
        "# 5. Define ndarrays in NumPy and explain their key features. How do they differ from standard Python lists?\n",
        "'''\n",
        "ndarray is n dimentional array (eg: 2d, 3d, 4d) it much more faster than normal array list from python, contains only homogeneuos data type making it easy for computation\n",
        "'''"
      ],
      "metadata": {
        "colab": {
          "base_uri": "https://localhost:8080/",
          "height": 70
        },
        "id": "9tSzyEWKPHXz",
        "outputId": "042fd069-637b-41df-9639-30aa32e1eb87"
      },
      "execution_count": 5,
      "outputs": [
        {
          "output_type": "execute_result",
          "data": {
            "text/plain": [
              "'\\nndarray is n dimentional array (eg: 2d, 3d, 4d) it much more faster than normal array list from python, contains only homogeneuos data type making it easy for computation\\n'"
            ],
            "application/vnd.google.colaboratory.intrinsic+json": {
              "type": "string"
            }
          },
          "metadata": {},
          "execution_count": 5
        }
      ]
    },
    {
      "cell_type": "code",
      "source": [
        "# 6. Analyze the performance benefits of NumPy arrays over Python lists for large-scale numerical operations.\n",
        "'''\n",
        "numpy array is contigues and opertaion performed on all once at a time which makes it super fast\n",
        "'''\n"
      ],
      "metadata": {
        "colab": {
          "base_uri": "https://localhost:8080/",
          "height": 53
        },
        "id": "_01whZcqQRYu",
        "outputId": "1cb175df-c28c-49a1-d207-292a02e2cbeb"
      },
      "execution_count": 6,
      "outputs": [
        {
          "output_type": "execute_result",
          "data": {
            "text/plain": [
              "'\\nnumpy array is contigues and opertaion performed on all once at a time which makes it super fast\\n'"
            ],
            "application/vnd.google.colaboratory.intrinsic+json": {
              "type": "string"
            }
          },
          "metadata": {},
          "execution_count": 6
        }
      ]
    },
    {
      "cell_type": "code",
      "source": [
        "# 7.  Compare vstack() and hstack() functions in NumPy. Provide examples demonstrating their usage and output.\n",
        "'''\n",
        "vstack for intergrating vertically where columns should be same\n",
        "hsatck for intergrating horizontally where rows must be same\n",
        "'''\n",
        "a = [1, 2, 3, 4]\n",
        "b = ([6, 7, 8, 9], [2, 3, 4, 5])\n",
        "e = [5, 6, 7, 8]\n",
        "c = np.hstack((a, e))\n",
        "d = np.vstack((a, b))\n",
        "print(\"hstack = \", c)\n",
        "print(\"\\nvstack = \", d)"
      ],
      "metadata": {
        "colab": {
          "base_uri": "https://localhost:8080/"
        },
        "id": "Q_TQqMzSSfAj",
        "outputId": "aecad385-5e41-42d1-8698-c1f479f691fc"
      },
      "execution_count": 7,
      "outputs": [
        {
          "output_type": "stream",
          "name": "stdout",
          "text": [
            "hstack =  [1 2 3 4 5 6 7 8]\n",
            "\n",
            "vstack =  [[1 2 3 4]\n",
            " [6 7 8 9]\n",
            " [2 3 4 5]]\n"
          ]
        }
      ]
    },
    {
      "cell_type": "code",
      "source": [
        "# 8. Explain the differences between fliplr() and flipud() methods in NumPy, including their effects on various array dimensions.\n",
        "'''\n",
        "fliplr() is used for left to right flip\n",
        "flipud() is used for up to down flip\n",
        "'''\n",
        "import numpy as np\n",
        "a = np.array([[1, 2, 3, 4]])\n",
        "c = np.array([[1, 2, 3, 4]])\n",
        "b = np.array([[3, 4, 5], [6, 7, 8]])\n",
        "print(np.flipud(a))\n",
        "print(np.fliplr(a))\n",
        "print(np.fliplr(b))\n",
        "print(np.flipud(b))\n",
        "print(np.fliplr(c))\n",
        "print(np.flipud(c))"
      ],
      "metadata": {
        "id": "fC8nq-xHTuoy",
        "colab": {
          "base_uri": "https://localhost:8080/"
        },
        "outputId": "12dd64c4-60bb-4995-f5e9-48e852f415ff"
      },
      "execution_count": 8,
      "outputs": [
        {
          "output_type": "stream",
          "name": "stdout",
          "text": [
            "[[1 2 3 4]]\n",
            "[[4 3 2 1]]\n",
            "[[5 4 3]\n",
            " [8 7 6]]\n",
            "[[6 7 8]\n",
            " [3 4 5]]\n",
            "[[4 3 2 1]]\n",
            "[[1 2 3 4]]\n"
          ]
        }
      ]
    },
    {
      "cell_type": "code",
      "source": [
        "# 9. Discuss the functionality of the array_split() method in NumPy. How does it handle uneven splits?\n",
        "'''\n",
        "array_split() method is used for spliting array into half\n",
        "'''\n",
        "arr = np.array([1, 2, 3, 4, 5])\n",
        "np.array_split(arr, 2)\n",
        "\n"
      ],
      "metadata": {
        "colab": {
          "base_uri": "https://localhost:8080/"
        },
        "id": "OUcuihx3Q12P",
        "outputId": "abddb628-279e-4d9f-8606-e5488b28b8d1"
      },
      "execution_count": 9,
      "outputs": [
        {
          "output_type": "execute_result",
          "data": {
            "text/plain": [
              "[array([1, 2, 3]), array([4, 5])]"
            ]
          },
          "metadata": {},
          "execution_count": 9
        }
      ]
    },
    {
      "cell_type": "code",
      "source": [
        "# 10. Explain the concepts of vectorization and broadcasting in NumPy. How do they contribute to efficient array operations?\n",
        "'''\n",
        "vectorization is iteraring through the array element wise\n",
        "broadcasting is done when different dimentions are present\n",
        "'''\n",
        "import numpy as np\n",
        "a = np.array([1, 2, 3])\n",
        "b = np.array([4])\n",
        "\n",
        "\n",
        "result = a + b\n",
        "print(result)"
      ],
      "metadata": {
        "id": "V088ZYSEUWS5",
        "colab": {
          "base_uri": "https://localhost:8080/"
        },
        "outputId": "79b54edb-e957-4704-c428-30298b8f7b17"
      },
      "execution_count": 10,
      "outputs": [
        {
          "output_type": "stream",
          "name": "stdout",
          "text": [
            "[5 6 7]\n"
          ]
        }
      ]
    },
    {
      "cell_type": "markdown",
      "source": [
        "Practical Questions\n"
      ],
      "metadata": {
        "id": "w-oZ6Yoe56Lu"
      }
    },
    {
      "cell_type": "code",
      "source": [
        "# 1. Create a 3x3 NumPy array with random integers between 1 and 100. Then, interchange its rows and columns.\n",
        "import numpy as np\n",
        "a = np.random.randint(1, 100, (3,3))\n",
        "print(a)\n",
        "a.T"
      ],
      "metadata": {
        "colab": {
          "base_uri": "https://localhost:8080/"
        },
        "id": "6mI57IpE5_mn",
        "outputId": "e31bf55c-5c4f-4a41-c2dd-bcbcb5518646"
      },
      "execution_count": 11,
      "outputs": [
        {
          "output_type": "stream",
          "name": "stdout",
          "text": [
            "[[ 1 66 45]\n",
            " [58 63  8]\n",
            " [62  2 50]]\n"
          ]
        },
        {
          "output_type": "execute_result",
          "data": {
            "text/plain": [
              "array([[ 1, 58, 62],\n",
              "       [66, 63,  2],\n",
              "       [45,  8, 50]])"
            ]
          },
          "metadata": {},
          "execution_count": 11
        }
      ]
    },
    {
      "cell_type": "code",
      "source": [
        "# 2. Generate a 1D NumPy array with 10 elements. Reshape it into a 2x5 array, then into a 5x2 array.\n",
        "a = np.arange(10)\n",
        "print(a.reshape(2, 5))\n",
        "print(a.reshape(5, 2))"
      ],
      "metadata": {
        "colab": {
          "base_uri": "https://localhost:8080/"
        },
        "id": "Y0lqhSCl6RZv",
        "outputId": "f3a0e500-412b-4550-e93f-f4db2a753514"
      },
      "execution_count": 12,
      "outputs": [
        {
          "output_type": "stream",
          "name": "stdout",
          "text": [
            "[[0 1 2 3 4]\n",
            " [5 6 7 8 9]]\n",
            "[[0 1]\n",
            " [2 3]\n",
            " [4 5]\n",
            " [6 7]\n",
            " [8 9]]\n"
          ]
        }
      ]
    },
    {
      "cell_type": "code",
      "source": [
        "# 3. Create a 4x4 NumPy array with random float values. Add a border of zeros around it, resulting in a 6x6 array.\n",
        "arr = np.random.randint(1, 20, (4, 4))\n",
        "np.zeros((6, 6))"
      ],
      "metadata": {
        "colab": {
          "base_uri": "https://localhost:8080/"
        },
        "id": "MiFWA9U87aiu",
        "outputId": "9f09fd39-47ef-4065-ff06-189eecdc1855"
      },
      "execution_count": 13,
      "outputs": [
        {
          "output_type": "execute_result",
          "data": {
            "text/plain": [
              "array([[0., 0., 0., 0., 0., 0.],\n",
              "       [0., 0., 0., 0., 0., 0.],\n",
              "       [0., 0., 0., 0., 0., 0.],\n",
              "       [0., 0., 0., 0., 0., 0.],\n",
              "       [0., 0., 0., 0., 0., 0.],\n",
              "       [0., 0., 0., 0., 0., 0.]])"
            ]
          },
          "metadata": {},
          "execution_count": 13
        }
      ]
    },
    {
      "cell_type": "code",
      "source": [
        "# 3. Create a 4x4 NumPy array with random float values. Add a border of zeros around it, resulting in a 6x6 array.\n",
        "arr = np.random.randint(1, 20, (4, 4))\n",
        "np.pad(arr, 1)"
      ],
      "metadata": {
        "colab": {
          "base_uri": "https://localhost:8080/"
        },
        "id": "ijEOQ6oHFSKx",
        "outputId": "e8bb98bc-3304-4320-d633-41cea66613d2"
      },
      "execution_count": 14,
      "outputs": [
        {
          "output_type": "execute_result",
          "data": {
            "text/plain": [
              "array([[ 0,  0,  0,  0,  0,  0],\n",
              "       [ 0,  7,  6, 11,  4,  0],\n",
              "       [ 0, 19, 19, 11, 17,  0],\n",
              "       [ 0, 13, 13, 13,  1,  0],\n",
              "       [ 0,  2, 11, 14,  7,  0],\n",
              "       [ 0,  0,  0,  0,  0,  0]])"
            ]
          },
          "metadata": {},
          "execution_count": 14
        }
      ]
    },
    {
      "cell_type": "code",
      "source": [
        "# 4. Using NumPy, create an array of integers from 10 to 60 with a step of 5\n",
        "np.arange(10, 60, 5)\n"
      ],
      "metadata": {
        "colab": {
          "base_uri": "https://localhost:8080/"
        },
        "id": "43wNzcvcGe0g",
        "outputId": "6d0c36a1-c2e1-41fb-bdbd-30cbc78713bd"
      },
      "execution_count": 15,
      "outputs": [
        {
          "output_type": "execute_result",
          "data": {
            "text/plain": [
              "array([10, 15, 20, 25, 30, 35, 40, 45, 50, 55])"
            ]
          },
          "metadata": {},
          "execution_count": 15
        }
      ]
    },
    {
      "cell_type": "code",
      "source": [
        "# 5. Create a NumPy array of strings ['python', 'numpy', 'pandas']. Apply different case transformations (uppercase, lowercase, title case, etc.) to each element.\n",
        "arr = np.array(['python', 'numpy', 'pandas'])\n",
        "print(np.char.upper(arr))\n",
        "print(np.char.lower(arr))\n",
        "print(np.char.title(arr))\n"
      ],
      "metadata": {
        "colab": {
          "base_uri": "https://localhost:8080/"
        },
        "id": "FR-HXqwHKBuE",
        "outputId": "617324f8-c6d5-4801-9845-12205283a994"
      },
      "execution_count": 16,
      "outputs": [
        {
          "output_type": "stream",
          "name": "stdout",
          "text": [
            "['PYTHON' 'NUMPY' 'PANDAS']\n",
            "['python' 'numpy' 'pandas']\n",
            "['Python' 'Numpy' 'Pandas']\n"
          ]
        }
      ]
    },
    {
      "cell_type": "code",
      "source": [
        "# 6. Generate a NumPy array of words. Insert a space between each character of every word in the array.\n",
        "arr = np.array(['python', 'numpy', 'pandas'])\n",
        "np.char.join(' ', arr)"
      ],
      "metadata": {
        "colab": {
          "base_uri": "https://localhost:8080/"
        },
        "id": "q9orlQNhMfua",
        "outputId": "02905364-93b0-45f3-bc7e-51fdb8b8c72b"
      },
      "execution_count": 17,
      "outputs": [
        {
          "output_type": "execute_result",
          "data": {
            "text/plain": [
              "array(['p y t h o n', 'n u m p y', 'p a n d a s'], dtype='<U11')"
            ]
          },
          "metadata": {},
          "execution_count": 17
        }
      ]
    },
    {
      "cell_type": "code",
      "source": [
        "# 7. Create two 2D NumPy arrays and perform element-wise addition, subtraction, multiplication, and division.\n",
        "arr1 = np.array([[1, 2, 3, 4, 5], [6, 7, 8, 9, 0]])\n",
        "arr2 = np.array([3, 5, 7, 9, 1])\n",
        "addition_arr = arr1 + arr2\n",
        "print(f\" addition of two array{addition_arr}\")\n",
        "sub_arr = arr1 - arr2\n",
        "print(f\"subtracting two arrays {sub_arr}\")\n",
        "mul_arr = arr1 * arr2\n",
        "print(f\"multiplication of two arrays {mul_arr}\")"
      ],
      "metadata": {
        "colab": {
          "base_uri": "https://localhost:8080/"
        },
        "id": "gL36pA0lReBA",
        "outputId": "12ed2fe8-17a9-4640-fb04-954d7d5cda35"
      },
      "execution_count": 18,
      "outputs": [
        {
          "output_type": "stream",
          "name": "stdout",
          "text": [
            " addition of two array[[ 4  7 10 13  6]\n",
            " [ 9 12 15 18  1]]\n",
            "subtracting two arrays [[-2 -3 -4 -5  4]\n",
            " [ 3  2  1  0 -1]]\n",
            "multiplication of two arrays [[ 3 10 21 36  5]\n",
            " [18 35 56 81  0]]\n"
          ]
        }
      ]
    },
    {
      "cell_type": "code",
      "source": [
        "# 8. Use NumPy to create a 5x5 identity matrix, then extract its diagonal elements.\n",
        "arr = np.random.randint(1, 5, (5, 5))\n",
        "print(f\"diagonal of\\n {arr} \\nis {arr.diagonal()}\")"
      ],
      "metadata": {
        "colab": {
          "base_uri": "https://localhost:8080/"
        },
        "id": "JADVBjDuSKA_",
        "outputId": "e35a6380-aa6d-4131-ad4a-771c340180aa"
      },
      "execution_count": 19,
      "outputs": [
        {
          "output_type": "stream",
          "name": "stdout",
          "text": [
            "diagonal of\n",
            " [[4 2 3 4 1]\n",
            " [2 4 4 3 2]\n",
            " [2 3 3 1 4]\n",
            " [2 4 4 1 3]\n",
            " [2 1 3 1 3]] \n",
            "is [4 4 3 1 3]\n"
          ]
        }
      ]
    },
    {
      "cell_type": "code",
      "source": [
        "# 9. Generate a NumPy array of 100 random integers between 0 and 1000. Find and display all prime numbers in this array.\n",
        "import numpy as np\n",
        "\n",
        "n = np.random.randint(0, 1000, (1, 100))\n",
        "print(n)\n",
        "prime_list = []\n",
        "n = n.flatten()\n",
        "for i in n:\n",
        "  num = int(i)\n",
        "  if num > 1:\n",
        "    for j in range(2, num):\n",
        "      if (num % j) == 0:\n",
        "        break\n",
        "    else:\n",
        "      prime_list.append(num)\n",
        "print(prime_list)\n"
      ],
      "metadata": {
        "colab": {
          "base_uri": "https://localhost:8080/"
        },
        "id": "qXrgmGB1TEBn",
        "outputId": "a517d485-08c4-4eeb-cb3f-45a9e9958271"
      },
      "execution_count": 59,
      "outputs": [
        {
          "output_type": "stream",
          "name": "stdout",
          "text": [
            "[[470 814 408 784  21 226  52 999  12 208 863 413 574 899 375 920 317 650\n",
            "  788 765 320 411 931  50 852 304 381 218 883 225 500 816 370 328 559 655\n",
            "  613 824 248  90 861 890 700 822 468  54 127 958  56 678 631 147 331 409\n",
            "  793 745 261 113 321 802  82   4 922 422 758 411 580 374 331 607 556 693\n",
            "  681 715  28 798 935  43 184  50 128 974 370 229 624 222 357 607 491  64\n",
            "  948 553 367 986   7 866 681 850 310  82]]\n",
            "[863, 317, 883, 613, 127, 631, 331, 409, 113, 331, 607, 43, 229, 607, 491, 367, 7]\n"
          ]
        }
      ]
    },
    {
      "cell_type": "markdown",
      "source": [
        "n = int(input(\"Enter the number\"))\n",
        "i = 1\n",
        "for n in range(1, 11):\n",
        "  print(n , \"x\", i, \"=\", n*i)\n",
        "  i=i+1\n"
      ],
      "metadata": {
        "id": "8khgqezPHZbH"
      }
    },
    {
      "cell_type": "code",
      "source": [
        "# 10.  Create a NumPy array representing daily temperatures for a month. Calculate and display the weekly averages.\n",
        "daily_temp = np.random.randint(18, 25, (5, 7))\n",
        "avg_temp = []\n",
        "#for temp in daily_temp:\n",
        "for i in range(1,5):\n",
        "  a = np.mean(daily_temp[i])\n",
        "  avg_temp.append(a)\n",
        "print(f\" {daily_temp} \\naverage temperature per week is\\n {avg_temp}\")"
      ],
      "metadata": {
        "colab": {
          "base_uri": "https://localhost:8080/"
        },
        "id": "xFZGFMIG6Wpm",
        "outputId": "27ddf2db-cb5f-4a9b-8cfc-ff4b8999e4f0"
      },
      "execution_count": 46,
      "outputs": [
        {
          "output_type": "stream",
          "name": "stdout",
          "text": [
            " [[19 23 22 20 22 22 23]\n",
            " [21 18 20 22 21 21 22]\n",
            " [19 22 23 21 22 22 24]\n",
            " [19 20 23 18 19 24 18]\n",
            " [24 22 24 23 20 22 20]] \n",
            "average temperature per week is\n",
            " [20.714285714285715, 21.857142857142858, 20.142857142857142, 22.142857142857142]\n"
          ]
        }
      ]
    }
  ]
}